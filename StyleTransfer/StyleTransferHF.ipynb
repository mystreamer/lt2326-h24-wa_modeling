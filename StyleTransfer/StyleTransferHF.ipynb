{
 "cells": [
  {
   "cell_type": "markdown",
   "id": "0",
   "metadata": {},
   "source": [
    "# Style Transfer using HF Tooling\n",
    "\n",
    "Here we attempt a similar approach like we already did in the Simple Style Transfer case, but now we use **HuggingFace** tools.\n",
    "\n",
    "Specifically, we use the `StableDiffusionImg2Img` pipeline, which allows us – given an input image and text – to condition the generation for new images."
   ]
  },
  {
   "cell_type": "markdown",
   "id": "1",
   "metadata": {},
   "source": [
    "## Main Code"
   ]
  },
  {
   "cell_type": "markdown",
   "id": "2",
   "metadata": {},
   "source": [
    "### Preliminaries"
   ]
  },
  {
   "cell_type": "markdown",
   "id": "afd90c0c",
   "metadata": {},
   "source": [
    "#### Custom Packages\n",
    "\n",
    "We'll be using the HF diffusers package and LoRA.\n",
    "\n",
    "`python -m venv ~/envs/sdiff`\n",
    "\n",
    "`pip install --upgrade pip`\n",
    "\n",
    "`source ~/envs/sdiff/bin/activate`\n",
    "\n",
    "`pip install -r requirements.txt`"
   ]
  },
  {
   "cell_type": "code",
   "execution_count": 2,
   "id": "3",
   "metadata": {},
   "outputs": [
    {
     "name": "stdout",
     "output_type": "stream",
     "text": [
      "Collecting cowsay\n",
      "  Using cached cowsay-6.1-py3-none-any.whl.metadata (5.6 kB)\n",
      "Using cached cowsay-6.1-py3-none-any.whl (25 kB)\n",
      "Installing collected packages: cowsay\n",
      "Successfully installed cowsay-6.1\n"
     ]
    }
   ],
   "source": [
    "# Any installs\n",
    "! pip install cowsay "
   ]
  },
  {
   "cell_type": "code",
   "execution_count": 3,
   "id": "8e094416",
   "metadata": {},
   "outputs": [
    {
     "name": "stderr",
     "output_type": "stream",
     "text": [
      "/home/gusmasdy@GU.GU.SE/envs/sdiff/lib64/python3.12/site-packages/tqdm/auto.py:21: TqdmWarning: IProgress not found. Please update jupyter and ipywidgets. See https://ipywidgets.readthedocs.io/en/stable/user_install.html\n",
      "  from .autonotebook import tqdm as notebook_tqdm\n"
     ]
    }
   ],
   "source": [
    "from diffusers import StableDiffusionImg2ImgPipeline"
   ]
  },
  {
   "cell_type": "code",
   "execution_count": 8,
   "id": "ede0a158",
   "metadata": {},
   "outputs": [],
   "source": [
    "import torch\n",
    "torch.cuda.is_available()\n",
    "device = \"cuda:0\""
   ]
  },
  {
   "cell_type": "code",
   "execution_count": 10,
   "id": "4",
   "metadata": {},
   "outputs": [],
   "source": [
    "# Declare Imports\n",
    "import os, sys, json\n",
    "# import tabulate\n",
    "# import pandas as pd\n",
    "# pd.set_option('display.max_columns', None)"
   ]
  },
  {
   "cell_type": "code",
   "execution_count": null,
   "id": "5",
   "metadata": {},
   "outputs": [],
   "source": [
    "# Create some relevant folders for data persistence\n",
    "os.makedirs(\"../../etl/data/processed/TestSGF1\", exist_ok=True)"
   ]
  },
  {
   "cell_type": "code",
   "execution_count": null,
   "id": "6",
   "metadata": {},
   "outputs": [],
   "source": [
    "# Define some paths (e.g. to load, save data)\n",
    "GOLD_PATH=\"../../etl/data/processed/TestSGF1/ds_gold.json\"\n",
    "MAN_PATH=\"../../etl/data/processed/TestSGF1/ds_man.json\""
   ]
  },
  {
   "cell_type": "markdown",
   "id": "7",
   "metadata": {},
   "source": [
    "### Explanation of a function"
   ]
  },
  {
   "cell_type": "code",
   "execution_count": 11,
   "id": "8",
   "metadata": {},
   "outputs": [],
   "source": [
    "# Some function\n",
    "def save_dict_as_json(dict_data, filename):\n",
    "    with open(filename, 'w') as f:\n",
    "        json.dump(dict_data, f)"
   ]
  },
  {
   "cell_type": "code",
   "execution_count": null,
   "id": "9",
   "metadata": {},
   "outputs": [],
   "source": [
    "# More code using the function "
   ]
  },
  {
   "cell_type": "markdown",
   "id": "10",
   "metadata": {},
   "source": [
    "## Any final remarks\n",
    "- Either in MD or in code (like below)"
   ]
  },
  {
   "cell_type": "markdown",
   "id": "11",
   "metadata": {},
   "source": []
  }
 ],
 "metadata": {
  "kernelspec": {
   "display_name": "sdiff",
   "language": "python",
   "name": "python3"
  },
  "language_info": {
   "codemirror_mode": {
    "name": "ipython",
    "version": 3
   },
   "file_extension": ".py",
   "mimetype": "text/x-python",
   "name": "python",
   "nbconvert_exporter": "python",
   "pygments_lexer": "ipython3",
   "version": "3.12.3"
  }
 },
 "nbformat": 4,
 "nbformat_minor": 5
}
